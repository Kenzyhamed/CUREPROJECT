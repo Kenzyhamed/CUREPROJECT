{
 "cells": [
  {
   "cell_type": "markdown",
   "id": "4ce5d89c",
   "metadata": {},
   "source": [
    "# Task 1 - Develop a machine learning mode"
   ]
  },
  {
   "cell_type": "code",
   "execution_count": 1,
   "id": "ec46b2fd",
   "metadata": {
    "scrolled": true
   },
   "outputs": [],
   "source": [
    "import numpy as np\n",
    "import pandas as pd\n",
    "from pandas import Series, DataFrame\n",
    "from sklearn.model_selection import train_test_split\n",
    "from sklearn import preprocessing\n",
    "from sklearn.neighbors import KNeighborsClassifier\n",
    "import matplotlib.pyplot as plt\n",
    "from sklearn import svm, datasets\n",
    "from sklearn.svm import SVC\n",
    "from sklearn.metrics import confusion_matrix, ConfusionMatrixDisplay\n",
    "RecentOrders = pd.read_excel('RecentOrders.xlsx')\n"
   ]
  },
  {
   "cell_type": "code",
   "execution_count": 2,
   "id": "bf31457c",
   "metadata": {},
   "outputs": [
    {
     "data": {
      "text/plain": [
       "(     Price per unit  Qty. of items ordered    Sales\n",
       " 67            89.32                     23  5372.57\n",
       " 103          151.00                     45  6683.34\n",
       " 83            44.51                     40  8892.90\n",
       " 53            94.74                     29  6075.30\n",
       " 94            96.34                     38  4860.24\n",
       " ..              ...                    ...      ...\n",
       " 4             75.40                     41  3746.70\n",
       " 79            32.30                     27  1451.00\n",
       " 27            94.74                     22  6000.40\n",
       " 102           57.60                     29  2871.00\n",
       " 1             68.92                     47  8014.82\n",
       " \n",
       " [78 rows x 3 columns],\n",
       "      Price per unit  Qty. of items ordered    Sales\n",
       " 7             78.90                     29  8014.82\n",
       " 26            86.32                     47  8065.89\n",
       " 50           130.00                     37  5205.27\n",
       " 13            68.98                     31  3307.77\n",
       " 64            45.60                     48  5016.83\n",
       " 81            78.80                     20  4043.96\n",
       " 91            79.40                     23  4140.23\n",
       " 5             22.00                     42  5404.62\n",
       " 57            89.00                     37  8714.70\n",
       " 43            43.40                     24  2225.50\n",
       " 0            104.56                     41  7023.98\n",
       " 20           141.00                     36  6065.55\n",
       " 22            86.57                     45  9064.89\n",
       " 65           100.00                     40  9774.03\n",
       " 55            91.00                     33  5756.52\n",
       " 75            34.67                     39  2168.54\n",
       " 30           120.50                     34  3757.26\n",
       " 24            78.65                     23  3965.66\n",
       " 71            56.98                     30  2793.86\n",
       " 46            86.13                     24  4396.14\n",
       " 16            72.89                     37  7290.36\n",
       " 31            90.00                     24  2434.56\n",
       " 101          104.67                     37  3660.93\n",
       " 63            17.00                     26   733.11\n",
       " 39           100.81                     45  3009.09\n",
       " 88           100.00                     20  4099.68,\n",
       " 67     0\n",
       " 103    1\n",
       " 83     0\n",
       " 53     1\n",
       " 94     1\n",
       "       ..\n",
       " 4      1\n",
       " 79     0\n",
       " 27     1\n",
       " 102    0\n",
       " 1      0\n",
       " Name: Status, Length: 78, dtype: int64,\n",
       " 7      0\n",
       " 26     1\n",
       " 50     1\n",
       " 13     0\n",
       " 64     1\n",
       " 81     0\n",
       " 91     0\n",
       " 5      1\n",
       " 57     1\n",
       " 43     0\n",
       " 0      1\n",
       " 20     1\n",
       " 22     1\n",
       " 65     1\n",
       " 55     0\n",
       " 75     1\n",
       " 30     0\n",
       " 24     0\n",
       " 71     0\n",
       " 46     0\n",
       " 16     1\n",
       " 31     1\n",
       " 101    1\n",
       " 63     0\n",
       " 39     1\n",
       " 88     0\n",
       " Name: Status, dtype: int64)"
      ]
     },
     "execution_count": 2,
     "metadata": {},
     "output_type": "execute_result"
    }
   ],
   "source": [
    "dfX= RecentOrders.drop(columns = ['Status'])\n",
    "sy= RecentOrders.Status\n",
    "dfX_train, dfX_test, sy_train, sy_test = train_test_split(dfX, sy)\n",
    "dfX_train, dfX_test, sy_train, sy_test"
   ]
  },
  {
   "cell_type": "code",
   "execution_count": 3,
   "id": "4697b207",
   "metadata": {
    "scrolled": true
   },
   "outputs": [
    {
     "data": {
      "text/plain": [
       "LabelEncoder()"
      ]
     },
     "execution_count": 3,
     "metadata": {},
     "output_type": "execute_result"
    }
   ],
   "source": [
    "le=preprocessing.LabelEncoder()\n",
    "le"
   ]
  },
  {
   "cell_type": "code",
   "execution_count": 4,
   "id": "e0d865c5",
   "metadata": {},
   "outputs": [
    {
     "data": {
      "text/plain": [
       "array([0, 1])"
      ]
     },
     "execution_count": 4,
     "metadata": {},
     "output_type": "execute_result"
    }
   ],
   "source": [
    "le=le.fit(sy_train)\n",
    "le.classes_"
   ]
  },
  {
   "cell_type": "code",
   "execution_count": 5,
   "id": "59962d7e",
   "metadata": {},
   "outputs": [
    {
     "data": {
      "text/plain": [
       "(67     0\n",
       " 103    1\n",
       " 83     0\n",
       " 53     1\n",
       " 94     1\n",
       "       ..\n",
       " 4      1\n",
       " 79     0\n",
       " 27     1\n",
       " 102    0\n",
       " 1      0\n",
       " Name: Status, Length: 78, dtype: int64,\n",
       " array([0, 1, 0, 1, 1, 0, 0, 0, 0, 0, 0, 1, 0, 1, 0, 0, 1, 0, 1, 0, 1, 0,\n",
       "        1, 1, 1, 1, 0, 1, 1, 0, 1, 0, 1, 1, 1, 1, 0, 1, 1, 1, 1, 1, 0, 1,\n",
       "        1, 1, 0, 1, 1, 1, 1, 1, 0, 0, 1, 0, 1, 1, 0, 0, 1, 1, 0, 0, 0, 1,\n",
       "        1, 1, 1, 0, 0, 1, 0, 1, 0, 1, 0, 0]))"
      ]
     },
     "execution_count": 5,
     "metadata": {},
     "output_type": "execute_result"
    }
   ],
   "source": [
    "y_train=le.transform(sy_train)\n",
    "sy_train, y_train"
   ]
  },
  {
   "cell_type": "code",
   "execution_count": 6,
   "id": "ac3e909a",
   "metadata": {},
   "outputs": [
    {
     "data": {
      "text/plain": [
       "array([[   89.32,    23.  ,  5372.57],\n",
       "       [  151.  ,    45.  ,  6683.34],\n",
       "       [   44.51,    40.  ,  8892.9 ],\n",
       "       [   94.74,    29.  ,  6075.3 ],\n",
       "       [   96.34,    38.  ,  4860.24],\n",
       "       [   89.9 ,    48.  ,  1329.9 ],\n",
       "       [   98.65,    45.  ,  2333.12],\n",
       "       [   87.98,    32.  ,  5176.38],\n",
       "       [   81.35,    27.  ,  4177.35],\n",
       "       [  169.  ,    39.  ,  2990.13],\n",
       "       [   76.  ,    23.  ,  3676.76],\n",
       "       [   98.57,    24.  ,  7136.19],\n",
       "       [  101.23,    45.  ,  3176.  ],\n",
       "       [   94.64,    39.  ,  5887.35],\n",
       "       [  104.56,    35.  ,  7078.23],\n",
       "       [   98.8 ,    41.  ,  3003.  ],\n",
       "       [  106.78,    47.  ,  6120.34],\n",
       "       [   78.4 ,    30.  ,  3944.7 ],\n",
       "       [   70.98,    45.  ,  7737.93],\n",
       "       [   54.8 ,    27.  ,  2765.9 ],\n",
       "       [   94.74,    50.  ,  6901.92],\n",
       "       [   51.15,    32.  ,  2597.39],\n",
       "       [   52.43,    42.  , 10172.7 ],\n",
       "       [  198.2 ,    49.  ,  8254.8 ],\n",
       "       [   89.76,    39.  ,  7680.64],\n",
       "       [   59.9 ,    42.  ,  9264.86],\n",
       "       [  105.  ,    34.  ,  3025.92],\n",
       "       [   83.26,    34.  ,  7023.9 ],\n",
       "       [   76.36,    21.  ,  4358.04],\n",
       "       [   45.78,    26.  ,  2497.77],\n",
       "       [   67.98,    41.  ,  4570.4 ],\n",
       "       [   72.55,    20.  ,  3660.92],\n",
       "       [  104.5 ,    46.  ,  6484.59],\n",
       "       [   62.3 ,    38.  ,  7374.1 ],\n",
       "       [   92.83,    36.  ,  5868.2 ],\n",
       "       [   45.5 ,    37.  ,  5422.39],\n",
       "       [   87.63,    34.  ,  4905.39],\n",
       "       [   76.54,    43.  ,  6463.23],\n",
       "       [  190.7 ,    36.  , 12001.  ],\n",
       "       [   89.  ,    41.  ,  8336.94],\n",
       "       [   81.35,    41.  ,  5512.32],\n",
       "       [   87.6 ,    34.  ,  1822.17],\n",
       "       [   89.  ,    34.  ,  5288.01],\n",
       "       [   85.43,    41.  ,  7329.06],\n",
       "       [   56.98,    66.  ,  5691.84],\n",
       "       [   87.65,    40.  ,  4695.6 ],\n",
       "       [   87.3 ,    36.  ,  3479.76],\n",
       "       [   65.4 ,    30.  ,  2904.44],\n",
       "       [   98.5 ,    28.  ,  4394.38],\n",
       "       [  167.76,    40.  ,  7667.14],\n",
       "       [   92.  ,    46.  ,  4708.44],\n",
       "       [  100.  ,    49.  ,  3207.12],\n",
       "       [   76.5 ,    22.  ,  3834.38],\n",
       "       [   67.78,    50.  ,  2852.08],\n",
       "       [   98.76,    29.  , 10993.5 ],\n",
       "       [   86.5 ,    34.  ,  4514.92],\n",
       "       [   95.7 ,    46.  , 11623.7 ],\n",
       "       [   89.5 ,    22.  ,  2416.56],\n",
       "       [   89.78,    21.  ,  5438.07],\n",
       "       [   78.9 ,    21.  ,  4132.7 ],\n",
       "       [   34.91,    42.  ,  3188.64],\n",
       "       [   95.7 ,    45.  ,  6123.4 ],\n",
       "       [   76.37,    41.  ,  3664.1 ],\n",
       "       [   67.89,    47.  ,  2756.8 ],\n",
       "       [  103.4 ,    23.  ,  7209.11],\n",
       "       [  115.7 ,    44.  ,  5192.95],\n",
       "       [   96.66,    49.  ,  7516.08],\n",
       "       [   67.89,    26.  ,  4472.  ],\n",
       "       [   87.6 ,    42.  ,  5833.8 ],\n",
       "       [   98.65,    42.  ,  3884.34],\n",
       "       [   89.98,    34.  ,  5566.5 ],\n",
       "       [   96.34,    22.  ,  4183.  ],\n",
       "       [   76.6 ,    23.  ,  3896.49],\n",
       "       [   75.4 ,    41.  ,  3746.7 ],\n",
       "       [   32.3 ,    27.  ,  1451.  ],\n",
       "       [   94.74,    22.  ,  6000.4 ],\n",
       "       [   57.6 ,    29.  ,  2871.  ],\n",
       "       [   68.92,    47.  ,  8014.82]])"
      ]
     },
     "execution_count": 6,
     "metadata": {},
     "output_type": "execute_result"
    }
   ],
   "source": [
    "dfX_train.to_numpy()"
   ]
  },
  {
   "cell_type": "code",
   "execution_count": 7,
   "id": "ce6987c5",
   "metadata": {},
   "outputs": [
    {
     "data": {
      "text/plain": [
       "array([[0.34370102, 0.06521739, 0.37884286],\n",
       "       [0.71549126, 0.54347826, 0.50167649],\n",
       "       [0.07359855, 0.43478261, 0.70873668],\n",
       "       [0.37637131, 0.19565217, 0.44469642],\n",
       "       [0.38601567, 0.39130435, 0.33083187],\n",
       "       [0.34719711, 0.60869565, 0.        ],\n",
       "       [0.39993972, 0.54347826, 0.0940128 ],\n",
       "       [0.33562387, 0.26086957, 0.36045768],\n",
       "       [0.29566004, 0.15217391, 0.26683753],\n",
       "       [0.82399036, 0.41304348, 0.1555819 ],\n",
       "       [0.26341169, 0.06521739, 0.21992672],\n",
       "       [0.3994575 , 0.08695652, 0.54411354],\n",
       "       [0.41549126, 0.54347826, 0.17299997],\n",
       "       [0.37576854, 0.41304348, 0.42708343],\n",
       "       [0.43556359, 0.32608696, 0.53868205],\n",
       "       [0.40084388, 0.45652174, 0.15678796],\n",
       "       [0.44894515, 0.58695652, 0.44891717],\n",
       "       [0.27787824, 0.2173913 , 0.24503566],\n",
       "       [0.2331525 , 0.54347826, 0.60050323],\n",
       "       [0.13562387, 0.15217391, 0.13456907],\n",
       "       [0.37637131, 0.65217391, 0.52215985],\n",
       "       [0.11362266, 0.26086957, 0.11877782],\n",
       "       [0.12133816, 0.47826087, 0.82866808],\n",
       "       [1.        , 0.63043478, 0.64893966],\n",
       "       [0.34635322, 0.41304348, 0.59513452],\n",
       "       [0.16636528, 0.47826087, 0.74359344],\n",
       "       [0.43821579, 0.30434783, 0.15893582],\n",
       "       [0.307173  , 0.30434783, 0.53359073],\n",
       "       [0.26558168, 0.02173913, 0.28377018],\n",
       "       [0.08125377, 0.13043478, 0.10944233],\n",
       "       [0.21506932, 0.45652174, 0.30367066],\n",
       "       [0.24261603, 0.        , 0.21844233],\n",
       "       [0.43520193, 0.56521739, 0.48305142],\n",
       "       [0.18083183, 0.39130435, 0.56640834],\n",
       "       [0.36485835, 0.34782609, 0.42528886],\n",
       "       [0.079566  , 0.36956522, 0.38351154],\n",
       "       [0.33351417, 0.30434783, 0.33506293],\n",
       "       [0.26666667, 0.5       , 0.48104975],\n",
       "       [0.95479204, 0.34782609, 1.        ],\n",
       "       [0.34177215, 0.45652174, 0.65663709],\n",
       "       [0.29566004, 0.45652174, 0.39193898],\n",
       "       [0.33333333, 0.30434783, 0.04613114],\n",
       "       [0.34177215, 0.30434783, 0.37091865],\n",
       "       [0.32025316, 0.45652174, 0.56218759],\n",
       "       [0.14876432, 1.        , 0.40876198],\n",
       "       [0.33363472, 0.43478261, 0.31540329],\n",
       "       [0.33152502, 0.34782609, 0.20146564],\n",
       "       [0.19951778, 0.2173913 , 0.1475518 ],\n",
       "       [0.39903556, 0.17391304, 0.28717564],\n",
       "       [0.81651597, 0.43478261, 0.59386942],\n",
       "       [0.35985533, 0.56521739, 0.31660654],\n",
       "       [0.40807715, 0.63043478, 0.17591626],\n",
       "       [0.26642556, 0.04347826, 0.23469745],\n",
       "       [0.21386377, 0.65217391, 0.14264509],\n",
       "       [0.40060277, 0.19565217, 0.90558612],\n",
       "       [0.32670283, 0.30434783, 0.29847157],\n",
       "       [0.38215793, 0.56521739, 0.96464282],\n",
       "       [0.34478602, 0.04347826, 0.10183205],\n",
       "       [0.34647378, 0.02173913, 0.38498093],\n",
       "       [0.2808921 , 0.02173913, 0.26265333],\n",
       "       [0.01573237, 0.47826087, 0.17418448],\n",
       "       [0.38215793, 0.54347826, 0.44920392],\n",
       "       [0.26564195, 0.45652174, 0.21874034],\n",
       "       [0.21452682, 0.58695652, 0.1337163 ],\n",
       "       [0.42857143, 0.06521739, 0.55094695],\n",
       "       [0.50271248, 0.52173913, 0.36201048],\n",
       "       [0.38794454, 0.63043478, 0.57971343],\n",
       "       [0.21452682, 0.13043478, 0.29444949],\n",
       "       [0.33333333, 0.47826087, 0.4220652 ],\n",
       "       [0.39993972, 0.47826087, 0.23937926],\n",
       "       [0.34767932, 0.30434783, 0.39701624],\n",
       "       [0.38601567, 0.04347826, 0.267367  ],\n",
       "       [0.26702833, 0.06521739, 0.24051785],\n",
       "       [0.25979506, 0.45652174, 0.22648087],\n",
       "       [0.        , 0.15217391, 0.01134841],\n",
       "       [0.37637131, 0.04347826, 0.43767747],\n",
       "       [0.15250151, 0.19565217, 0.1444181 ],\n",
       "       [0.22073538, 0.58695652, 0.62645088]])"
      ]
     },
     "execution_count": 7,
     "metadata": {},
     "output_type": "execute_result"
    }
   ],
   "source": [
    "n1= preprocessing.MinMaxScaler()\n",
    "n1=n1.fit(dfX_train.to_numpy())\n",
    "X_train = n1.transform(dfX_train.to_numpy())\n",
    "X_train"
   ]
  },
  {
   "cell_type": "code",
   "execution_count": 8,
   "id": "2011aba7",
   "metadata": {},
   "outputs": [
    {
     "data": {
      "text/plain": [
       "(78, 3)"
      ]
     },
     "execution_count": 8,
     "metadata": {},
     "output_type": "execute_result"
    }
   ],
   "source": [
    "X_train.shape"
   ]
  },
  {
   "cell_type": "code",
   "execution_count": 9,
   "id": "459741b9",
   "metadata": {},
   "outputs": [
    {
     "data": {
      "text/plain": [
       "KNeighborsClassifier(n_neighbors=1)"
      ]
     },
     "execution_count": 9,
     "metadata": {},
     "output_type": "execute_result"
    }
   ],
   "source": [
    "knn = KNeighborsClassifier(n_neighbors=1)\n",
    "knn=knn.fit(X_train, y_train)\n",
    "knn"
   ]
  },
  {
   "cell_type": "code",
   "execution_count": 10,
   "id": "98abfa46",
   "metadata": {},
   "outputs": [
    {
     "data": {
      "text/plain": [
       "(7      0\n",
       " 26     1\n",
       " 50     1\n",
       " 13     0\n",
       " 64     1\n",
       " 81     0\n",
       " 91     0\n",
       " 5      1\n",
       " 57     1\n",
       " 43     0\n",
       " 0      1\n",
       " 20     1\n",
       " 22     1\n",
       " 65     1\n",
       " 55     0\n",
       " 75     1\n",
       " 30     0\n",
       " 24     0\n",
       " 71     0\n",
       " 46     0\n",
       " 16     1\n",
       " 31     1\n",
       " 101    1\n",
       " 63     0\n",
       " 39     1\n",
       " 88     0\n",
       " Name: Status, dtype: int64,\n",
       " array([0, 1, 1, 0, 1, 0, 0, 1, 1, 0, 1, 1, 1, 1, 0, 1, 0, 0, 0, 0, 1, 1,\n",
       "        1, 0, 1, 0]))"
      ]
     },
     "execution_count": 10,
     "metadata": {},
     "output_type": "execute_result"
    }
   ],
   "source": [
    "y_test= le.transform(sy_test.to_numpy())\n",
    "sy_test, y_test"
   ]
  },
  {
   "cell_type": "code",
   "execution_count": 11,
   "id": "c747fed2",
   "metadata": {},
   "outputs": [
    {
     "data": {
      "text/plain": [
       "(     Price per unit  Qty. of items ordered    Sales\n",
       " 7             78.90                     29  8014.82\n",
       " 26            86.32                     47  8065.89\n",
       " 50           130.00                     37  5205.27\n",
       " 13            68.98                     31  3307.77\n",
       " 64            45.60                     48  5016.83\n",
       " 81            78.80                     20  4043.96\n",
       " 91            79.40                     23  4140.23\n",
       " 5             22.00                     42  5404.62\n",
       " 57            89.00                     37  8714.70\n",
       " 43            43.40                     24  2225.50\n",
       " 0            104.56                     41  7023.98\n",
       " 20           141.00                     36  6065.55\n",
       " 22            86.57                     45  9064.89\n",
       " 65           100.00                     40  9774.03\n",
       " 55            91.00                     33  5756.52\n",
       " 75            34.67                     39  2168.54\n",
       " 30           120.50                     34  3757.26\n",
       " 24            78.65                     23  3965.66\n",
       " 71            56.98                     30  2793.86\n",
       " 46            86.13                     24  4396.14\n",
       " 16            72.89                     37  7290.36\n",
       " 31            90.00                     24  2434.56\n",
       " 101          104.67                     37  3660.93\n",
       " 63            17.00                     26   733.11\n",
       " 39           100.81                     45  3009.09\n",
       " 88           100.00                     20  4099.68,\n",
       " array([[ 0.2808921 ,  0.19565217,  0.62645088],\n",
       "        [ 0.32561784,  0.58695652,  0.6312367 ],\n",
       "        [ 0.58890898,  0.36956522,  0.363165  ],\n",
       "        [ 0.22109705,  0.23913043,  0.18534828],\n",
       "        [ 0.08016878,  0.60869565,  0.34550609],\n",
       "        [ 0.28028933,  0.        ,  0.25433742],\n",
       "        [ 0.28390597,  0.06521739,  0.26335898],\n",
       "        [-0.06208559,  0.47826087,  0.3818463 ],\n",
       "        [ 0.34177215,  0.36956522,  0.69203737],\n",
       "        [ 0.06690778,  0.08695652,  0.08392762],\n",
       "        [ 0.43556359,  0.45652174,  0.53359822],\n",
       "        [ 0.65521398,  0.34782609,  0.44378274],\n",
       "        [ 0.32712477,  0.54347826,  0.72485405],\n",
       "        [ 0.40807715,  0.43478261,  0.7913083 ],\n",
       "        [ 0.35382761,  0.2826087 ,  0.41482321],\n",
       "        [ 0.01428571,  0.41304348,  0.07858984],\n",
       "        [ 0.53164557,  0.30434783,  0.22747046],\n",
       "        [ 0.27938517,  0.06521739,  0.24699984],\n",
       "        [ 0.14876432,  0.2173913 ,  0.13718923],\n",
       "        [ 0.32447257,  0.08695652,  0.28734057],\n",
       "        [ 0.24466546,  0.36956522,  0.55856097],\n",
       "        [ 0.34779988,  0.08695652,  0.10351885],\n",
       "        [ 0.43622664,  0.36956522,  0.21844327],\n",
       "        [-0.09222423,  0.13043478, -0.05592582],\n",
       "        [ 0.41295961,  0.54347826,  0.15735866],\n",
       "        [ 0.40807715,  0.        ,  0.259559  ]]))"
      ]
     },
     "execution_count": 11,
     "metadata": {},
     "output_type": "execute_result"
    }
   ],
   "source": [
    "X_test=n1.transform(dfX_test.to_numpy())\n",
    "dfX_test, X_test"
   ]
  },
  {
   "cell_type": "code",
   "execution_count": 12,
   "id": "f9defbd6",
   "metadata": {
    "scrolled": true
   },
   "outputs": [
    {
     "data": {
      "text/plain": [
       "array([1, 1, 1, 1, 1, 0, 0, 1, 1, 0, 1, 1, 1, 1, 0, 1, 0, 0, 0, 0, 1, 1,\n",
       "       0, 0, 0, 1])"
      ]
     },
     "execution_count": 12,
     "metadata": {},
     "output_type": "execute_result"
    }
   ],
   "source": [
    "knn.predict(X_test)"
   ]
  },
  {
   "cell_type": "code",
   "execution_count": 13,
   "id": "cde23a17",
   "metadata": {
    "scrolled": true
   },
   "outputs": [
    {
     "data": {
      "text/plain": [
       "array([0, 1, 1, 0, 1, 0, 0, 1, 1, 0, 1, 1, 1, 1, 0, 1, 0, 0, 0, 0, 1, 1,\n",
       "       1, 0, 1, 0])"
      ]
     },
     "execution_count": 13,
     "metadata": {},
     "output_type": "execute_result"
    }
   ],
   "source": [
    "y_test"
   ]
  },
  {
   "cell_type": "code",
   "execution_count": 14,
   "id": "0e29698c",
   "metadata": {},
   "outputs": [
    {
     "data": {
      "text/plain": [
       "0.8076923076923077"
      ]
     },
     "execution_count": 14,
     "metadata": {},
     "output_type": "execute_result"
    }
   ],
   "source": [
    "knn.score(X_test, y_test)"
   ]
  },
  {
   "cell_type": "code",
   "execution_count": 15,
   "id": "d75947a5",
   "metadata": {},
   "outputs": [
    {
     "data": {
      "text/plain": [
       "1.0"
      ]
     },
     "execution_count": 15,
     "metadata": {},
     "output_type": "execute_result"
    }
   ],
   "source": [
    "knn.score(X_train, y_train)"
   ]
  },
  {
   "cell_type": "markdown",
   "id": "dc2c9e08",
   "metadata": {},
   "source": [
    "# Task 2 - Doing some analysis to find best value of k"
   ]
  },
  {
   "cell_type": "code",
   "execution_count": 16,
   "id": "df92c74f",
   "metadata": {},
   "outputs": [],
   "source": [
    "n=1\n",
    "xaxis = []\n",
    "yaxis_testmn=[]\n",
    "yaxis_trainmn=[]\n",
    "for n in range(1, 20):\n",
    "    ln = KNeighborsClassifier(n_neighbors=n)\n",
    "    ln=ln.fit(X_train, y_train)\n",
    "    y_test = le.transform(sy_test.to_numpy())\n",
    "    x_test = n1.transform(dfX_test.to_numpy())\n",
    "    yaxis_testmn.append(ln.score(X_test,y_test))\n",
    "    yaxis_trainmn.append(ln.score(X_train,y_train))\n",
    "    xaxis.append(n)"
   ]
  },
  {
   "cell_type": "code",
   "execution_count": 17,
   "id": "e5ebfd32",
   "metadata": {},
   "outputs": [],
   "source": [
    "n=1\n",
    "n1=preprocessing.StandardScaler()\n",
    "n1=n1.fit(dfX_train.to_numpy())\n",
    "X_train = n1.transform(dfX_train.to_numpy())\n",
    "xaxis=[]\n",
    "yaxis_testss=[]\n",
    "yaxis_trainss=[]\n",
    "for n in range(1, 20):\n",
    "    ln = KNeighborsClassifier(n_neighbors=n)\n",
    "    ln=ln.fit(X_train, y_train)\n",
    "    y_test = le.transform(sy_test.to_numpy())\n",
    "    x_test = n1.transform(dfX_test.to_numpy())\n",
    "    yaxis_testss.append(ln.score(X_test,y_test))\n",
    "    yaxis_trainss.append(ln.score(X_train,y_train))\n",
    "    xaxis.append(n)"
   ]
  },
  {
   "cell_type": "code",
   "execution_count": 18,
   "id": "765e4898",
   "metadata": {
    "scrolled": true
   },
   "outputs": [
    {
     "data": {
      "image/png": "[encoded data removed]",
      "text/plain": [
       "<Figure size 864x324 with 2 Axes>"
      ]
     },
     "metadata": {
      "needs_background": "light"
     },
     "output_type": "display_data"
    }
   ],
   "source": [
    "fig, axs = plt.subplots(figsize = (12,4.5))\n",
    "axis_1=plt.subplot2grid(shape=(1,2), loc = (0,0))\n",
    "axis_2=plt.subplot2grid(shape=(1,2), loc = (0,1))\n",
    "plt.tight_layout(pad=3)\n",
    "\n",
    "\n",
    "axis_1.scatter(xaxis, yaxis_testmn, label='test')\n",
    "axis_1.scatter(xaxis, yaxis_trainmn, label='train')\n",
    "axis_1.set_xlabel('n')\n",
    "axis_1.set_ylabel('model accuracy')\n",
    "axis_1.legend()\n",
    "axis_1.title.set_text('MinMaxScalar')\n",
    "\n",
    "axis_2.scatter(xaxis, yaxis_testss, label='test')\n",
    "axis_2.scatter(xaxis, yaxis_trainss, label='train')\n",
    "axis_2.set_xlabel('n')\n",
    "axis_2.set_ylabel('model accuracy')\n",
    "axis_2.legend()\n",
    "axis_2.title.set_text('StandardScalar')\n",
    "\n",
    "plt.show()"
   ]
  },
  {
   "cell_type": "markdown",
   "id": "2831c6b3",
   "metadata": {},
   "source": [
    "# Task 3 - Finding best value of k"
   ]
  },
  {
   "cell_type": "markdown",
   "id": "56de028f",
   "metadata": {},
   "source": [
    "a) Best k value for train is 1.0 and its is in both MinMaxScalar and StandardScalar\n",
    " however for test is 4 and that is in MinMaxScalar "
   ]
  },
  {
   "cell_type": "code",
   "execution_count": 19,
   "id": "d6080966",
   "metadata": {
    "scrolled": true
   },
   "outputs": [
    {
     "name": "stdout",
     "output_type": "stream",
     "text": [
      "Confusion matrix, without normalization\n",
      "[[ 0 12]\n",
      " [ 0 14]]\n",
      "Normalized confusion matrix\n",
      "[[0. 1.]\n",
      " [0. 1.]]\n"
     ]
    },
    {
     "data": {
      "image/png": "[encoded data removed]",
      "text/plain": [
       "<Figure size 432x288 with 2 Axes>"
      ]
     },
     "metadata": {
      "needs_background": "light"
     },
     "output_type": "display_data"
    },
    {
     "data": {
      "image/png": "[encoded data removed]",
      "text/plain": [
       "<Figure size 432x288 with 2 Axes>"
      ]
     },
     "metadata": {
      "needs_background": "light"
     },
     "output_type": "display_data"
    }
   ],
   "source": [
    "classifier = svm.SVC(kernel=\"linear\", C=0.01).fit(X_train, y_train)\n",
    "class_names = ['In Progress', 'Shipped']\n",
    "np.set_printoptions(precision=2)\n",
    "titles_options = [\n",
    "    (\"Confusion matrix, without normalization\", None),\n",
    "    (\"Normalized confusion matrix\", \"true\"),\n",
    "]\n",
    "for title, normalize in titles_options:\n",
    "    disp = ConfusionMatrixDisplay.from_estimator(\n",
    "        classifier,\n",
    "        X_test,\n",
    "        y_test,\n",
    "        display_labels=class_names,\n",
    "        cmap=plt.cm.Blues,\n",
    "        normalize=normalize,\n",
    "    )\n",
    "    disp.ax_.set_title(title)\n",
    "\n",
    "    print(title)\n",
    "    print(disp.confusion_matrix)\n",
    "\n",
    "plt.show()"
   ]
  },
  {
   "cell_type": "code",
   "execution_count": 20,
   "id": "8b3f82b7",
   "metadata": {},
   "outputs": [
    {
     "data": {
      "text/plain": [
       "array([0, 1, 1, 0, 1, 0, 0, 1, 1, 0, 1, 1, 1, 1, 0, 1, 0, 0, 0, 0, 1, 1,\n",
       "       1, 0, 1, 0])"
      ]
     },
     "execution_count": 20,
     "metadata": {},
     "output_type": "execute_result"
    }
   ],
   "source": [
    "y_test"
   ]
  },
  {
   "cell_type": "markdown",
   "id": "b8968e82",
   "metadata": {},
   "source": [
    "# Task 4 - Apply your model"
   ]
  },
  {
   "cell_type": "code",
   "execution_count": 21,
   "id": "2ab159e5",
   "metadata": {},
   "outputs": [
    {
     "data": {
      "text/plain": [
       "array([[ 1.47,  1.66, -0.04]])"
      ]
     },
     "execution_count": 21,
     "metadata": {},
     "output_type": "execute_result"
    }
   ],
   "source": [
    "new_example_rawdata = np.array([[130.52,52,5206.78]])\n",
    "X_new=n1.transform(new_example_rawdata)\n",
    "X_new"
   ]
  },
  {
   "cell_type": "code",
   "execution_count": 22,
   "id": "ac1b07ea",
   "metadata": {},
   "outputs": [
    {
     "data": {
      "text/plain": [
       "array([1])"
      ]
     },
     "execution_count": 22,
     "metadata": {},
     "output_type": "execute_result"
    }
   ],
   "source": [
    "knn.predict(X_new)"
   ]
  },
  {
   "cell_type": "code",
   "execution_count": 23,
   "id": "0ee9bce8",
   "metadata": {},
   "outputs": [
    {
     "data": {
      "text/plain": [
       "array([1])"
      ]
     },
     "execution_count": 23,
     "metadata": {},
     "output_type": "execute_result"
    }
   ],
   "source": [
    "le.inverse_transform(knn.predict(X_new))"
   ]
  },
  {
   "cell_type": "code",
   "execution_count": null,
   "id": "c5882393",
   "metadata": {},
   "outputs": [],
   "source": []
  },
  {
   "cell_type": "code",
   "execution_count": null,
   "id": "af2117ef",
   "metadata": {},
   "outputs": [],
   "source": []
  }
 ],
 "metadata": {
  "kernelspec": {
   "display_name": "Python 3 (ipykernel)",
   "language": "python",
   "name": "python3"
  },
  "language_info": {
   "codemirror_mode": {
    "name": "ipython",
    "version": 3
   },
   "file_extension": ".py",
   "mimetype": "text/x-python",
   "name": "python",
   "nbconvert_exporter": "python",
   "pygments_lexer": "ipython3",
   "version": "3.9.12"
  }
 },
 "nbformat": 4,
 "nbformat_minor": 5
}
