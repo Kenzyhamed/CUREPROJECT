{
 "cells": [
  {
   "cell_type": "markdown",
   "id": "3c4f054c",
   "metadata": {},
   "source": [
    "Kenzy Hamed 30140355- Cure Deliverable 2"
   ]
  },
  {
   "cell_type": "markdown",
   "id": "034b36a7",
   "metadata": {},
   "source": [
    "# TASK 1"
   ]
  },
  {
   "cell_type": "code",
   "execution_count": 126,
   "id": "55c6b645",
   "metadata": {},
   "outputs": [
    {
     "data": {
      "text/plain": [
       "(569, 31)"
      ]
     },
     "execution_count": 126,
     "metadata": {},
     "output_type": "execute_result"
    }
   ],
   "source": [
    "import numpy as np\n",
    "import pandas as pd\n",
    "import matplotlib.pyplot as plt\n",
    "\n",
    "import sklearn\n",
    "from sklearn.datasets import load_breast_cancer\n",
    "\n",
    "cancer=load_breast_cancer(return_X_y = True, as_frame= True)\n",
    "\n",
    "a=cancer[0]\n",
    "b=cancer[1]\n",
    "a['typeofcancer']=b\n",
    "a.shape\n"
   ]
  },
  {
   "cell_type": "code",
   "execution_count": 127,
   "id": "3fe78982",
   "metadata": {},
   "outputs": [
    {
     "data": {
      "text/html": [
       "<div>\n",
       "<style scoped>\n",
       "    .dataframe tbody tr th:only-of-type {\n",
       "        vertical-align: middle;\n",
       "    }\n",
       "\n",
       "    .dataframe tbody tr th {\n",
       "        vertical-align: top;\n",
       "    }\n",
       "\n",
       "    .dataframe thead th {\n",
       "        text-align: right;\n",
       "    }\n",
       "</style>\n",
       "<table border=\"1\" class=\"dataframe\">\n",
       "  <thead>\n",
       "    <tr style=\"text-align: right;\">\n",
       "      <th></th>\n",
       "      <th>mean radius</th>\n",
       "      <th>mean perimeter</th>\n",
       "      <th>mean area</th>\n",
       "      <th>typeofcancer</th>\n",
       "    </tr>\n",
       "  </thead>\n",
       "  <tbody>\n",
       "    <tr>\n",
       "      <th>0</th>\n",
       "      <td>17.99</td>\n",
       "      <td>122.8</td>\n",
       "      <td>1001.0</td>\n",
       "      <td>0</td>\n",
       "    </tr>\n",
       "    <tr>\n",
       "      <th>1</th>\n",
       "      <td>20.57</td>\n",
       "      <td>132.9</td>\n",
       "      <td>1326.0</td>\n",
       "      <td>0</td>\n",
       "    </tr>\n",
       "  </tbody>\n",
       "</table>\n",
       "</div>"
      ],
      "text/plain": [
       "   mean radius  mean perimeter  mean area  typeofcancer\n",
       "0        17.99           122.8     1001.0             0\n",
       "1        20.57           132.9     1326.0             0"
      ]
     },
     "execution_count": 127,
     "metadata": {},
     "output_type": "execute_result"
    }
   ],
   "source": [
    "df=a.iloc[:,[0,2,3,30]]\n",
    "df.iloc[[0,1,],:]"
   ]
  },
  {
   "cell_type": "code",
   "execution_count": 128,
   "id": "6dcdba8b",
   "metadata": {},
   "outputs": [
    {
     "data": {
      "text/html": [
       "<div>\n",
       "<style scoped>\n",
       "    .dataframe tbody tr th:only-of-type {\n",
       "        vertical-align: middle;\n",
       "    }\n",
       "\n",
       "    .dataframe tbody tr th {\n",
       "        vertical-align: top;\n",
       "    }\n",
       "\n",
       "    .dataframe thead th {\n",
       "        text-align: right;\n",
       "    }\n",
       "</style>\n",
       "<table border=\"1\" class=\"dataframe\">\n",
       "  <thead>\n",
       "    <tr style=\"text-align: right;\">\n",
       "      <th></th>\n",
       "      <th>mean radius</th>\n",
       "      <th>mean perimeter</th>\n",
       "      <th>mean area</th>\n",
       "      <th>typeofcancer</th>\n",
       "    </tr>\n",
       "  </thead>\n",
       "  <tbody>\n",
       "    <tr>\n",
       "      <th>17</th>\n",
       "      <td>16.130</td>\n",
       "      <td>108.10</td>\n",
       "      <td>798.8</td>\n",
       "      <td>0</td>\n",
       "    </tr>\n",
       "    <tr>\n",
       "      <th>18</th>\n",
       "      <td>19.810</td>\n",
       "      <td>130.00</td>\n",
       "      <td>1260.0</td>\n",
       "      <td>0</td>\n",
       "    </tr>\n",
       "    <tr>\n",
       "      <th>19</th>\n",
       "      <td>13.540</td>\n",
       "      <td>87.46</td>\n",
       "      <td>566.3</td>\n",
       "      <td>1</td>\n",
       "    </tr>\n",
       "    <tr>\n",
       "      <th>20</th>\n",
       "      <td>13.080</td>\n",
       "      <td>85.63</td>\n",
       "      <td>520.0</td>\n",
       "      <td>1</td>\n",
       "    </tr>\n",
       "    <tr>\n",
       "      <th>21</th>\n",
       "      <td>9.504</td>\n",
       "      <td>60.34</td>\n",
       "      <td>273.9</td>\n",
       "      <td>1</td>\n",
       "    </tr>\n",
       "  </tbody>\n",
       "</table>\n",
       "</div>"
      ],
      "text/plain": [
       "    mean radius  mean perimeter  mean area  typeofcancer\n",
       "17       16.130          108.10      798.8             0\n",
       "18       19.810          130.00     1260.0             0\n",
       "19       13.540           87.46      566.3             1\n",
       "20       13.080           85.63      520.0             1\n",
       "21        9.504           60.34      273.9             1"
      ]
     },
     "execution_count": 128,
     "metadata": {},
     "output_type": "execute_result"
    }
   ],
   "source": [
    "df.iloc[[17,18,19,20,21],:]"
   ]
  },
  {
   "cell_type": "markdown",
   "id": "aa6d48e0",
   "metadata": {},
   "source": [
    "# Task 2"
   ]
  },
  {
   "cell_type": "code",
   "execution_count": 129,
   "id": "791bc209",
   "metadata": {},
   "outputs": [
    {
     "data": {
      "text/plain": [
       "(212, 357)"
      ]
     },
     "execution_count": 129,
     "metadata": {},
     "output_type": "execute_result"
    }
   ],
   "source": [
    "asorted = a.sort_values('typeofcancer', ignore_index=True)\n",
    "asorted.typeofcancer.value_counts()\n",
    "\n",
    "f1, f0 =asorted.typeofcancer.value_counts()\n",
    "f0, f1"
   ]
  },
  {
   "cell_type": "code",
   "execution_count": 130,
   "id": "736f3656",
   "metadata": {
    "scrolled": true
   },
   "outputs": [
    {
     "data": {
      "image/png": "[encoded data removed]",
      "text/plain": [
       "<Figure size 720x180 with 3 Axes>"
      ]
     },
     "metadata": {
      "needs_background": "light"
     },
     "output_type": "display_data"
    }
   ],
   "source": [
    "fig=plt.figure(figsize=(10,2.5))\n",
    "axs1=plt.subplot2grid(shape=(1,3), loc=(0,0))\n",
    "axs2=plt.subplot2grid(shape=(1,3), loc=(0,1))\n",
    "axs3=plt.subplot2grid(shape=(1,3), loc=(0,2))\n",
    "plt.tight_layout()\n",
    "\n",
    "axs1.hist(asorted.iloc[0:f0,0], edgecolor='b',fc='none', label='c0(Malignant)')\n",
    "axs1.hist(asorted.iloc[f0:f0+f1,0], edgecolor='r',fc='none', label='c1(Benign)')\n",
    "axs1.set_xlabel('mean radius')\n",
    "axs1.set_ylabel('Frequency')\n",
    "axs1.legend()\n",
    "\n",
    "\n",
    "axs2.scatter(asorted.iloc[0:f0,2],asorted.iloc[0:f0,0], label='c0(M)')\n",
    "axs2.scatter(asorted.iloc[f0:f0+f1,2],asorted.iloc[f0:f0+f1,0], label='c1(B)')\n",
    "axs2.set_xlabel('mean perimeter')\n",
    "axs2.set_ylabel('mean radius')\n",
    "axs2.legend()\n",
    "\n",
    "axs3.scatter(asorted.iloc[0:f0,1],asorted.iloc[0:f0,2], label='c0(M)')\n",
    "axs3.scatter(asorted.iloc[f0:f0+f1,1],asorted.iloc[f0:f0+f1,2], label='c1(B)')\n",
    "axs3.set_xlabel('mean area')\n",
    "axs3.set_ylabel('mean radius')\n",
    "axs3.legend()\n",
    "\n",
    "plt.show()\n",
    "\n"
   ]
  },
  {
   "cell_type": "markdown",
   "id": "733943e3",
   "metadata": {},
   "source": [
    "\n",
    "(ii)Briefly describe what each of the subplots in Figure 1 reveal about the data.\n",
    "\n",
    "For the first graph the Benign tumor graph is fairly symmetrical therefore, the mean radius is fairly equal to the median radius. However the Malignant graph is right skewed, meaning the mean is higher than the median.\n",
    "In the first scatter graph the data has a high positive correlation between the mean perimeter and radius, whereas the second scatter is more curved which shows that the relationship between the mean area and radius is weaker. Furthermore, from the graphs we can infer that the Benign tumor is less in terms of mean radius, perimeter and area.\n"
   ]
  },
  {
   "cell_type": "markdown",
   "id": "a59b09c4",
   "metadata": {},
   "source": [
    "# Task 3"
   ]
  },
  {
   "cell_type": "code",
   "execution_count": 131,
   "id": "0446ab46",
   "metadata": {},
   "outputs": [
    {
     "data": {
      "image/png": "[encoded data removed]",
      "text/plain": [
       "<Figure size 720x180 with 4 Axes>"
      ]
     },
     "metadata": {
      "needs_background": "light"
     },
     "output_type": "display_data"
    }
   ],
   "source": [
    "fig=plt.figure(figsize=(10,2.5))\n",
    "axs1=plt.subplot2grid(shape=(1,4), loc=(0,0))\n",
    "axs2=plt.subplot2grid(shape=(1,4), loc=(0,1))\n",
    "axs3=plt.subplot2grid(shape=(1,4), loc=(0,2))\n",
    "axs4=plt.subplot2grid(shape=(1,4), loc=(0,3))\n",
    "plt.tight_layout()\n",
    "\n",
    "axs1.hist(asorted.iloc[0:f0,0], edgecolor='b',fc='none', label='c0(Malignant)')\n",
    "axs1.hist(asorted.iloc[f0:f0+f1,0], edgecolor='r',fc='none', label='c1(Benign)')\n",
    "axs1.set_xlabel('mean radius')\n",
    "axs1.set_ylabel('Frequency')\n",
    "axs1.legend()\n",
    "\n",
    "\n",
    "axs2.scatter(asorted.iloc[0:f0,6],asorted.iloc[0:f0,0], label='c0(M)')\n",
    "axs2.scatter(asorted.iloc[f0:f0+f1,6],asorted.iloc[f0:f0+f1,0], label='c1(B)')\n",
    "axs2.set_xlabel('mean concavity')\n",
    "axs2.set_ylabel('mean radius')\n",
    "axs2.legend()\n",
    "\n",
    "axs3.scatter(asorted.iloc[0:f0,7],asorted.iloc[0:f0,0], label='c0(M)')\n",
    "axs3.scatter(asorted.iloc[f0:f0+f1,7],asorted.iloc[f0:f0+f1,0], label='c1(B)')\n",
    "axs3.set_xlabel('mean concave points')\n",
    "axs3.set_ylabel('mean radius')\n",
    "axs3.legend()\n",
    "\n",
    "axs4.scatter(asorted.iloc[0:f0,8],asorted.iloc[0:f0,0], label='c0(M)')\n",
    "axs4.scatter(asorted.iloc[f0:f0+f1,8],asorted.iloc[f0:f0+f1,0], label='c1(B)')\n",
    "axs4.set_xlabel('mean symmetry')\n",
    "axs4.set_ylabel('mean radius')\n",
    "axs4.legend()\n",
    "plt.show()"
   ]
  },
  {
   "cell_type": "markdown",
   "id": "22fd5f30",
   "metadata": {},
   "source": [
    "(ii)Briefly describe what each of the subplots (except the histogram) in Figure 2 reveal about the data\n",
    "\n",
    "The three scatter graphs demonstrate how the mean concave points and mean radius have a stronger correlation and relationship than the mean symmetry and concavity. There is a clear linear trend for the first two scatter graphs however the last graph there isnt an identifiable trend. Furthermore in the first two graphs the Malignant has a higher concavity, concave points  and mean radius as compared to the Benign. However in the last graph the Malignant and tge Benign tumors have equal symmetry but their radiuses differ."
   ]
  },
  {
   "cell_type": "markdown",
   "id": "01e83f50",
   "metadata": {},
   "source": [
    "# Task 4"
   ]
  },
  {
   "cell_type": "code",
   "execution_count": 136,
   "id": "5d458904",
   "metadata": {},
   "outputs": [
    {
     "data": {
      "text/html": [
       "<div>\n",
       "<style scoped>\n",
       "    .dataframe tbody tr th:only-of-type {\n",
       "        vertical-align: middle;\n",
       "    }\n",
       "\n",
       "    .dataframe tbody tr th {\n",
       "        vertical-align: top;\n",
       "    }\n",
       "\n",
       "    .dataframe thead th {\n",
       "        text-align: right;\n",
       "    }\n",
       "</style>\n",
       "<table border=\"1\" class=\"dataframe\">\n",
       "  <thead>\n",
       "    <tr style=\"text-align: right;\">\n",
       "      <th></th>\n",
       "      <th>Order Number</th>\n",
       "      <th>Quantity Ordered</th>\n",
       "      <th>Sales</th>\n",
       "      <th>Status</th>\n",
       "    </tr>\n",
       "  </thead>\n",
       "  <tbody>\n",
       "    <tr>\n",
       "      <th>0</th>\n",
       "      <td>10107</td>\n",
       "      <td>30</td>\n",
       "      <td>2871.00</td>\n",
       "      <td>0</td>\n",
       "    </tr>\n",
       "    <tr>\n",
       "      <th>1</th>\n",
       "      <td>10121</td>\n",
       "      <td>34</td>\n",
       "      <td>2765.90</td>\n",
       "      <td>1</td>\n",
       "    </tr>\n",
       "    <tr>\n",
       "      <th>2</th>\n",
       "      <td>10134</td>\n",
       "      <td>41</td>\n",
       "      <td>3884.34</td>\n",
       "      <td>1</td>\n",
       "    </tr>\n",
       "    <tr>\n",
       "      <th>3</th>\n",
       "      <td>10145</td>\n",
       "      <td>45</td>\n",
       "      <td>3746.70</td>\n",
       "      <td>0</td>\n",
       "    </tr>\n",
       "    <tr>\n",
       "      <th>4</th>\n",
       "      <td>10159</td>\n",
       "      <td>49</td>\n",
       "      <td>5205.27</td>\n",
       "      <td>0</td>\n",
       "    </tr>\n",
       "    <tr>\n",
       "      <th>5</th>\n",
       "      <td>10168</td>\n",
       "      <td>36</td>\n",
       "      <td>3479.76</td>\n",
       "      <td>1</td>\n",
       "    </tr>\n",
       "    <tr>\n",
       "      <th>6</th>\n",
       "      <td>10180</td>\n",
       "      <td>29</td>\n",
       "      <td>2497.77</td>\n",
       "      <td>0</td>\n",
       "    </tr>\n",
       "    <tr>\n",
       "      <th>7</th>\n",
       "      <td>10188</td>\n",
       "      <td>48</td>\n",
       "      <td>5512.32</td>\n",
       "      <td>1</td>\n",
       "    </tr>\n",
       "    <tr>\n",
       "      <th>8</th>\n",
       "      <td>10201</td>\n",
       "      <td>22</td>\n",
       "      <td>2168.54</td>\n",
       "      <td>1</td>\n",
       "    </tr>\n",
       "    <tr>\n",
       "      <th>9</th>\n",
       "      <td>10211</td>\n",
       "      <td>41</td>\n",
       "      <td>4708.44</td>\n",
       "      <td>1</td>\n",
       "    </tr>\n",
       "    <tr>\n",
       "      <th>10</th>\n",
       "      <td>10223</td>\n",
       "      <td>37</td>\n",
       "      <td>3965.66</td>\n",
       "      <td>0</td>\n",
       "    </tr>\n",
       "    <tr>\n",
       "      <th>11</th>\n",
       "      <td>10237</td>\n",
       "      <td>23</td>\n",
       "      <td>2333.12</td>\n",
       "      <td>1</td>\n",
       "    </tr>\n",
       "    <tr>\n",
       "      <th>12</th>\n",
       "      <td>10251</td>\n",
       "      <td>28</td>\n",
       "      <td>3188.64</td>\n",
       "      <td>1</td>\n",
       "    </tr>\n",
       "    <tr>\n",
       "      <th>13</th>\n",
       "      <td>10263</td>\n",
       "      <td>34</td>\n",
       "      <td>3676.76</td>\n",
       "      <td>1</td>\n",
       "    </tr>\n",
       "    <tr>\n",
       "      <th>14</th>\n",
       "      <td>10275</td>\n",
       "      <td>45</td>\n",
       "      <td>4177.35</td>\n",
       "      <td>0</td>\n",
       "    </tr>\n",
       "    <tr>\n",
       "      <th>15</th>\n",
       "      <td>10285</td>\n",
       "      <td>36</td>\n",
       "      <td>4099.68</td>\n",
       "      <td>1</td>\n",
       "    </tr>\n",
       "  </tbody>\n",
       "</table>\n",
       "</div>"
      ],
      "text/plain": [
       "    Order Number  Quantity Ordered    Sales  Status\n",
       "0          10107                30  2871.00       0\n",
       "1          10121                34  2765.90       1\n",
       "2          10134                41  3884.34       1\n",
       "3          10145                45  3746.70       0\n",
       "4          10159                49  5205.27       0\n",
       "5          10168                36  3479.76       1\n",
       "6          10180                29  2497.77       0\n",
       "7          10188                48  5512.32       1\n",
       "8          10201                22  2168.54       1\n",
       "9          10211                41  4708.44       1\n",
       "10         10223                37  3965.66       0\n",
       "11         10237                23  2333.12       1\n",
       "12         10251                28  3188.64       1\n",
       "13         10263                34  3676.76       1\n",
       "14         10275                45  4177.35       0\n",
       "15         10285                36  4099.68       1"
      ]
     },
     "execution_count": 136,
     "metadata": {},
     "output_type": "execute_result"
    }
   ],
   "source": [
    "Itinerary=pd.DataFrame()\n",
    "Itinerary['Order Number']=[10107, 10121, 10134, 10145, 10159, 10168, 10180, 10188, 10201, 10211, 10223, 10237, 10251 ,10263, 10275, 10285]\n",
    "Itinerary['Quantity Ordered']=[30, 34, 41, 45, 49, 36, 29, 48, 22, 41, 37, 23, 28, 34, 45, 36]\n",
    "Itinerary['Sales']=[2871, 2765.9, 3884.34, 3746.7, 5205.27, 3479.76, 2497.77, 5512.32, 2168.54, 4708.44, 3965.66, 2333.12, 3188.64, 3676.76, 4177.35, 4099.68]\n",
    "Itinerary['Status']=[0, 1, 1, 0, 0, 1, 0, 1, 1, 1, 0, 1, 1, 1, 0, 1]\n",
    "Itinerary"
   ]
  },
  {
   "cell_type": "markdown",
   "id": "e46956f6",
   "metadata": {},
   "source": [
    "\n",
    "\n",
    "Number of instances = 16\n",
    "\n",
    "\n",
    "Number of attributes = 4\n",
    "\n",
    "\n",
    "List of attributes =\n",
    " -Order Number\n",
    " -Quantity Ordered\n",
    " -Sales\n",
    " -Status\n",
    "\n",
    "\n",
    "List of classes:\n",
    "    0 - In Progress\n",
    "    1 - Shipped\n",
    "\n",
    "\n",
    "Creator: Kenzy Hamed\n",
    "\n",
    "\n",
    "Data collected from: https://www.kaggle.com/datasets/kyanyoga/sample-sales-data?resource=download"
   ]
  },
  {
   "cell_type": "code",
   "execution_count": null,
   "id": "0a3c01f5",
   "metadata": {},
   "outputs": [],
   "source": []
  }
 ],
 "metadata": {
  "kernelspec": {
   "display_name": "Python 3 (ipykernel)",
   "language": "python",
   "name": "python3"
  },
  "language_info": {
   "codemirror_mode": {
    "name": "ipython",
    "version": 3
   },
   "file_extension": ".py",
   "mimetype": "text/x-python",
   "name": "python",
   "nbconvert_exporter": "python",
   "pygments_lexer": "ipython3",
   "version": "3.9.12"
  }
 },
 "nbformat": 4,
 "nbformat_minor": 5
}
